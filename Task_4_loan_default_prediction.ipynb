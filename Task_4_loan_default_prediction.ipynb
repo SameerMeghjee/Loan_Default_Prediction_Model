{
  "nbformat": 4,
  "nbformat_minor": 0,
  "metadata": {
    "colab": {
      "provenance": [],
      "gpuType": "V28"
    },
    "kernelspec": {
      "name": "python3",
      "display_name": "Python 3"
    },
    "language_info": {
      "name": "python"
    },
    "accelerator": "TPU"
  },
  "cells": [
    {
      "cell_type": "code",
      "execution_count": 1,
      "metadata": {
        "colab": {
          "base_uri": "https://localhost:8080/"
        },
        "id": "fzoRVkwUSgxS",
        "outputId": "ca6150bb-7dbd-4dc2-cfd7-ed28d62f613e"
      },
      "outputs": [
        {
          "output_type": "stream",
          "name": "stdout",
          "text": [
            "\u001b[?25l   \u001b[90m━━━━━━━━━━━━━━━━━━━━━━━━━━━━━━━━━━━━━━━━\u001b[0m \u001b[32m0.0/3.6 MB\u001b[0m \u001b[31m?\u001b[0m eta \u001b[36m-:--:--\u001b[0m\r\u001b[2K   \u001b[91m━━━━━\u001b[0m\u001b[91m╸\u001b[0m\u001b[90m━━━━━━━━━━━━━━━━━━━━━━━━━━━━━━━━━━\u001b[0m \u001b[32m0.5/3.6 MB\u001b[0m \u001b[31m16.0 MB/s\u001b[0m eta \u001b[36m0:00:01\u001b[0m\r\u001b[2K   \u001b[91m━━━━━━━━━━━━━━━━━━━━━━━━━━━━━━━━━━━━━━━\u001b[0m\u001b[91m╸\u001b[0m \u001b[32m3.6/3.6 MB\u001b[0m \u001b[31m57.1 MB/s\u001b[0m eta \u001b[36m0:00:01\u001b[0m\r\u001b[2K   \u001b[90m━━━━━━━━━━━━━━━━━━━━━━━━━━━━━━━━━━━━━━━━\u001b[0m \u001b[32m3.6/3.6 MB\u001b[0m \u001b[31m39.4 MB/s\u001b[0m eta \u001b[36m0:00:00\u001b[0m\n",
            "\u001b[?25h\u001b[?25l   \u001b[90m━━━━━━━━━━━━━━━━━━━━━━━━━━━━━━━━━━━━━━━━\u001b[0m \u001b[32m0.0/238.4 kB\u001b[0m \u001b[31m?\u001b[0m eta \u001b[36m-:--:--\u001b[0m\r\u001b[2K   \u001b[90m━━━━━━━━━━━━━━━━━━━━━━━━━━━━━━━━━━━━━━━━\u001b[0m \u001b[32m238.4/238.4 kB\u001b[0m \u001b[31m17.7 MB/s\u001b[0m eta \u001b[36m0:00:00\u001b[0m\n",
            "\u001b[?25h"
          ]
        }
      ],
      "source": [
        "!pip install -q kaggle lightgbm imbalanced-learn scikit-learn pandas matplotlib\n",
        "\n",
        "import os, zipfile, json, warnings\n",
        "import pandas as pd\n",
        "import numpy as np\n",
        "from sklearn.model_selection import train_test_split\n",
        "from sklearn.preprocessing import StandardScaler\n",
        "from sklearn.metrics import classification_report, confusion_matrix\n",
        "from imblearn.over_sampling import SMOTE\n",
        "import lightgbm as lgb\n",
        "from sklearn.svm import SVC\n",
        "warnings.filterwarnings(\"ignore\")\n"
      ]
    },
    {
      "cell_type": "code",
      "source": [
        "# 1️⃣  Upload kaggle.json (Colab: Files sidebar ▸ Upload)\n",
        "from google.colab import files, drive\n",
        "files.upload()                            # choose kaggle.json\n",
        "\n",
        "# 2️⃣  Move it to the hidden Kaggle folder and set permissions\n",
        "!mkdir -p ~/.kaggle\n",
        "!mv kaggle.json ~/.kaggle/\n",
        "!chmod 600 ~/.kaggle/kaggle.json\n",
        "\n"
      ],
      "metadata": {
        "colab": {
          "base_uri": "https://localhost:8080/",
          "height": 73
        },
        "id": "Hm3DIpriT9j7",
        "outputId": "64433a1a-715c-4607-e81f-dd37cfdd1d6f"
      },
      "execution_count": 3,
      "outputs": [
        {
          "output_type": "display_data",
          "data": {
            "text/plain": [
              "<IPython.core.display.HTML object>"
            ],
            "text/html": [
              "\n",
              "     <input type=\"file\" id=\"files-c5731444-c44d-4137-8ac8-ecec562c7d6c\" name=\"files[]\" multiple disabled\n",
              "        style=\"border:none\" />\n",
              "     <output id=\"result-c5731444-c44d-4137-8ac8-ecec562c7d6c\">\n",
              "      Upload widget is only available when the cell has been executed in the\n",
              "      current browser session. Please rerun this cell to enable.\n",
              "      </output>\n",
              "      <script>// Copyright 2017 Google LLC\n",
              "//\n",
              "// Licensed under the Apache License, Version 2.0 (the \"License\");\n",
              "// you may not use this file except in compliance with the License.\n",
              "// You may obtain a copy of the License at\n",
              "//\n",
              "//      http://www.apache.org/licenses/LICENSE-2.0\n",
              "//\n",
              "// Unless required by applicable law or agreed to in writing, software\n",
              "// distributed under the License is distributed on an \"AS IS\" BASIS,\n",
              "// WITHOUT WARRANTIES OR CONDITIONS OF ANY KIND, either express or implied.\n",
              "// See the License for the specific language governing permissions and\n",
              "// limitations under the License.\n",
              "\n",
              "/**\n",
              " * @fileoverview Helpers for google.colab Python module.\n",
              " */\n",
              "(function(scope) {\n",
              "function span(text, styleAttributes = {}) {\n",
              "  const element = document.createElement('span');\n",
              "  element.textContent = text;\n",
              "  for (const key of Object.keys(styleAttributes)) {\n",
              "    element.style[key] = styleAttributes[key];\n",
              "  }\n",
              "  return element;\n",
              "}\n",
              "\n",
              "// Max number of bytes which will be uploaded at a time.\n",
              "const MAX_PAYLOAD_SIZE = 100 * 1024;\n",
              "\n",
              "function _uploadFiles(inputId, outputId) {\n",
              "  const steps = uploadFilesStep(inputId, outputId);\n",
              "  const outputElement = document.getElementById(outputId);\n",
              "  // Cache steps on the outputElement to make it available for the next call\n",
              "  // to uploadFilesContinue from Python.\n",
              "  outputElement.steps = steps;\n",
              "\n",
              "  return _uploadFilesContinue(outputId);\n",
              "}\n",
              "\n",
              "// This is roughly an async generator (not supported in the browser yet),\n",
              "// where there are multiple asynchronous steps and the Python side is going\n",
              "// to poll for completion of each step.\n",
              "// This uses a Promise to block the python side on completion of each step,\n",
              "// then passes the result of the previous step as the input to the next step.\n",
              "function _uploadFilesContinue(outputId) {\n",
              "  const outputElement = document.getElementById(outputId);\n",
              "  const steps = outputElement.steps;\n",
              "\n",
              "  const next = steps.next(outputElement.lastPromiseValue);\n",
              "  return Promise.resolve(next.value.promise).then((value) => {\n",
              "    // Cache the last promise value to make it available to the next\n",
              "    // step of the generator.\n",
              "    outputElement.lastPromiseValue = value;\n",
              "    return next.value.response;\n",
              "  });\n",
              "}\n",
              "\n",
              "/**\n",
              " * Generator function which is called between each async step of the upload\n",
              " * process.\n",
              " * @param {string} inputId Element ID of the input file picker element.\n",
              " * @param {string} outputId Element ID of the output display.\n",
              " * @return {!Iterable<!Object>} Iterable of next steps.\n",
              " */\n",
              "function* uploadFilesStep(inputId, outputId) {\n",
              "  const inputElement = document.getElementById(inputId);\n",
              "  inputElement.disabled = false;\n",
              "\n",
              "  const outputElement = document.getElementById(outputId);\n",
              "  outputElement.innerHTML = '';\n",
              "\n",
              "  const pickedPromise = new Promise((resolve) => {\n",
              "    inputElement.addEventListener('change', (e) => {\n",
              "      resolve(e.target.files);\n",
              "    });\n",
              "  });\n",
              "\n",
              "  const cancel = document.createElement('button');\n",
              "  inputElement.parentElement.appendChild(cancel);\n",
              "  cancel.textContent = 'Cancel upload';\n",
              "  const cancelPromise = new Promise((resolve) => {\n",
              "    cancel.onclick = () => {\n",
              "      resolve(null);\n",
              "    };\n",
              "  });\n",
              "\n",
              "  // Wait for the user to pick the files.\n",
              "  const files = yield {\n",
              "    promise: Promise.race([pickedPromise, cancelPromise]),\n",
              "    response: {\n",
              "      action: 'starting',\n",
              "    }\n",
              "  };\n",
              "\n",
              "  cancel.remove();\n",
              "\n",
              "  // Disable the input element since further picks are not allowed.\n",
              "  inputElement.disabled = true;\n",
              "\n",
              "  if (!files) {\n",
              "    return {\n",
              "      response: {\n",
              "        action: 'complete',\n",
              "      }\n",
              "    };\n",
              "  }\n",
              "\n",
              "  for (const file of files) {\n",
              "    const li = document.createElement('li');\n",
              "    li.append(span(file.name, {fontWeight: 'bold'}));\n",
              "    li.append(span(\n",
              "        `(${file.type || 'n/a'}) - ${file.size} bytes, ` +\n",
              "        `last modified: ${\n",
              "            file.lastModifiedDate ? file.lastModifiedDate.toLocaleDateString() :\n",
              "                                    'n/a'} - `));\n",
              "    const percent = span('0% done');\n",
              "    li.appendChild(percent);\n",
              "\n",
              "    outputElement.appendChild(li);\n",
              "\n",
              "    const fileDataPromise = new Promise((resolve) => {\n",
              "      const reader = new FileReader();\n",
              "      reader.onload = (e) => {\n",
              "        resolve(e.target.result);\n",
              "      };\n",
              "      reader.readAsArrayBuffer(file);\n",
              "    });\n",
              "    // Wait for the data to be ready.\n",
              "    let fileData = yield {\n",
              "      promise: fileDataPromise,\n",
              "      response: {\n",
              "        action: 'continue',\n",
              "      }\n",
              "    };\n",
              "\n",
              "    // Use a chunked sending to avoid message size limits. See b/62115660.\n",
              "    let position = 0;\n",
              "    do {\n",
              "      const length = Math.min(fileData.byteLength - position, MAX_PAYLOAD_SIZE);\n",
              "      const chunk = new Uint8Array(fileData, position, length);\n",
              "      position += length;\n",
              "\n",
              "      const base64 = btoa(String.fromCharCode.apply(null, chunk));\n",
              "      yield {\n",
              "        response: {\n",
              "          action: 'append',\n",
              "          file: file.name,\n",
              "          data: base64,\n",
              "        },\n",
              "      };\n",
              "\n",
              "      let percentDone = fileData.byteLength === 0 ?\n",
              "          100 :\n",
              "          Math.round((position / fileData.byteLength) * 100);\n",
              "      percent.textContent = `${percentDone}% done`;\n",
              "\n",
              "    } while (position < fileData.byteLength);\n",
              "  }\n",
              "\n",
              "  // All done.\n",
              "  yield {\n",
              "    response: {\n",
              "      action: 'complete',\n",
              "    }\n",
              "  };\n",
              "}\n",
              "\n",
              "scope.google = scope.google || {};\n",
              "scope.google.colab = scope.google.colab || {};\n",
              "scope.google.colab._files = {\n",
              "  _uploadFiles,\n",
              "  _uploadFilesContinue,\n",
              "};\n",
              "})(self);\n",
              "</script> "
            ]
          },
          "metadata": {}
        },
        {
          "output_type": "stream",
          "name": "stdout",
          "text": [
            "Saving kaggle.json to kaggle.json\n"
          ]
        }
      ]
    },
    {
      "cell_type": "code",
      "source": [
        "# 3️⃣  Pull the Lending Club zip (≈ 5 GB)\n",
        "!kaggle datasets download -d wordsforthewise/lending-club -p /content\n",
        "\n",
        "# 4️⃣  Unzip only the accepted-loans CSV (saves RAM)\n",
        "import zipfile, re, os\n",
        "with zipfile.ZipFile('/content/lending-club.zip') as z:\n",
        "    file = [f for f in z.namelist() if re.search(r'accepted_2007.*csv$', f)][0]\n",
        "    z.extract(file, '/content')\n",
        "csv_path = '/content/' + file\n",
        "print(\"CSV ready →\", csv_path)\n"
      ],
      "metadata": {
        "colab": {
          "base_uri": "https://localhost:8080/"
        },
        "id": "_WRidbHQUHJm",
        "outputId": "86727f45-dc5c-4547-fc4a-ddfdd1e504a7"
      },
      "execution_count": 4,
      "outputs": [
        {
          "output_type": "stream",
          "name": "stdout",
          "text": [
            "Dataset URL: https://www.kaggle.com/datasets/wordsforthewise/lending-club\n",
            "License(s): CC0-1.0\n",
            "Downloading lending-club.zip to /content\n",
            " 96% 1.21G/1.26G [00:01<00:00, 1.17GB/s]\n",
            "100% 1.26G/1.26G [00:01<00:00, 1.18GB/s]\n",
            "CSV ready → /content/accepted_2007_to_2018q4.csv/accepted_2007_to_2018Q4.csv\n"
          ]
        }
      ]
    },
    {
      "cell_type": "code",
      "source": [
        "import pandas as pd\n",
        "\n",
        "# Load the dataset (can take a few seconds to minutes)\n",
        "df = pd.read_csv(csv_path, low_memory=False)\n",
        "\n",
        "\n",
        "\n"
      ],
      "metadata": {
        "id": "Qm2sVTkpUWTt"
      },
      "execution_count": 5,
      "outputs": []
    },
    {
      "cell_type": "code",
      "source": [
        "# Filter necessary columns only\n",
        "target = 'loan_status'\n",
        "features = [\n",
        "    'loan_amnt','term','grade','sub_grade','emp_length','home_ownership',\n",
        "    'annual_inc','purpose','addr_state','dti','delinq_2yrs','inq_last_6mths',\n",
        "    'open_acc','pub_rec','revol_util','total_acc','application_type'\n",
        "]\n",
        "\n",
        "df = df[features + [target]]"
      ],
      "metadata": {
        "id": "w59rV9T1VJ4z"
      },
      "execution_count": 9,
      "outputs": []
    },
    {
      "cell_type": "code",
      "source": [
        "# Convert target to binary: 1 = Default, 0 = Fully Paid\n",
        "bad_status = ['Charged Off','Default','Does not meet the credit policy. Status:Charged Off']\n",
        "df = df[df[target].isin(bad_status + ['Fully Paid'])]\n",
        "df[target] = df[target].apply(lambda x: 1 if x in bad_status else 0)\n",
        "\n",
        "# Drop columns with >25% missing\n",
        "df = df.dropna(axis=1, thresh=len(df)*0.75)\n",
        "\n",
        "# Fill remaining missing values\n",
        "df = df.fillna(df.median(numeric_only=True))\n",
        "df = df.fillna('Unknown')\n"
      ],
      "metadata": {
        "id": "VpP7cmLBVLvl"
      },
      "execution_count": 12,
      "outputs": []
    },
    {
      "cell_type": "code",
      "source": [
        "df = pd.read_csv(csv_path, parse_dates=['issue_d'])\n",
        "df = df[df['issue_d'].dt.year == 2018]      # or 2019 if available\n"
      ],
      "metadata": {
        "id": "IrnYhTeYYLBr"
      },
      "execution_count": 8,
      "outputs": []
    },
    {
      "cell_type": "code",
      "source": [
        "from sklearn.model_selection import train_test_split\n",
        "from sklearn.preprocessing import StandardScaler\n",
        "from imblearn.over_sampling import SMOTE\n",
        "\n",
        "# One-hot encode categorical variables\n",
        "X = pd.get_dummies(df.drop(target, axis=1), drop_first=True)\n",
        "y = df[target]\n",
        "\n",
        "# Split\n",
        "X_train, X_test, y_train, y_test = train_test_split(\n",
        "    X, y, test_size=0.2, random_state=10, stratify=y)\n",
        "\n",
        "# Balance using SMOTE\n",
        "sm = SMOTE(random_state=10)\n",
        "X_train_res, y_train_res = sm.fit_resample(X_train, y_train)\n",
        "\n",
        "# Scale for SVM (not needed for LightGBM)\n",
        "scaler = StandardScaler()\n",
        "X_train_svm = scaler.fit_transform(X_train_res)\n",
        "X_test_svm = scaler.transform(X_test)\n"
      ],
      "metadata": {
        "id": "pdfCW3PiUaYs"
      },
      "execution_count": 13,
      "outputs": []
    },
    {
      "cell_type": "code",
      "source": [
        "import lightgbm as lgb\n",
        "from sklearn.metrics import classification_report\n",
        "\n",
        "# Train\n",
        "lgb_train = lgb.Dataset(X_train_res, label=y_train_res)\n",
        "params = {\n",
        "    'objective': 'binary',\n",
        "    'metric': 'binary_logloss',\n",
        "    'learning_rate': 0.05,\n",
        "    'num_leaves': 31,\n",
        "    'verbosity': -1\n",
        "}\n",
        "gbm = lgb.train(params, lgb_train, num_boost_round=30)\n",
        "\n",
        "# Predict\n",
        "y_pred_lgb = (gbm.predict(X_test) > 0.5).astype(int)\n",
        "print(\"LightGBM Results:\\n\", classification_report(y_test, y_pred_lgb))\n"
      ],
      "metadata": {
        "colab": {
          "base_uri": "https://localhost:8080/"
        },
        "id": "H78kDEjDUdnN",
        "outputId": "4e9055fb-bd9b-4c74-e875-501b124402ee"
      },
      "execution_count": 15,
      "outputs": [
        {
          "output_type": "stream",
          "name": "stdout",
          "text": [
            "LightGBM Results:\n",
            "               precision    recall  f1-score   support\n",
            "\n",
            "           0       0.85      0.99      0.91      9489\n",
            "           1       0.48      0.05      0.08      1775\n",
            "\n",
            "    accuracy                           0.84     11264\n",
            "   macro avg       0.66      0.52      0.50     11264\n",
            "weighted avg       0.79      0.84      0.78     11264\n",
            "\n"
          ]
        }
      ]
    },
    {
      "cell_type": "code",
      "source": [
        "from sklearn.svm import SVC\n",
        "\n",
        "# Train\n",
        "svm = SVC(C=5, kernel='rbf')\n",
        "svm.fit(X_train_svm, y_train_res)\n",
        "\n",
        "# Predict\n",
        "y_pred_svm = svm.predict(X_test_svm)\n",
        "print(\"SVM Results:\\n\", classification_report(y_test, y_pred_svm))\n"
      ],
      "metadata": {
        "colab": {
          "base_uri": "https://localhost:8080/"
        },
        "id": "dcu-Sz3pUfxd",
        "outputId": "041bc75c-2379-4fe0-f4d5-e8989cdb550b"
      },
      "execution_count": 17,
      "outputs": [
        {
          "output_type": "stream",
          "name": "stdout",
          "text": [
            "SVM Results:\n",
            "               precision    recall  f1-score   support\n",
            "\n",
            "           0       0.85      0.99      0.91      9489\n",
            "           1       0.38      0.05      0.08      1775\n",
            "\n",
            "    accuracy                           0.84     11264\n",
            "   macro avg       0.62      0.52      0.50     11264\n",
            "weighted avg       0.77      0.84      0.78     11264\n",
            "\n"
          ]
        }
      ]
    },
    {
      "cell_type": "code",
      "source": [
        "from sklearn.metrics import confusion_matrix\n",
        "import pandas as pd\n",
        "\n",
        "def show_conf_matrix(y_true, y_pred, model_name):\n",
        "    cm = confusion_matrix(y_true, y_pred)\n",
        "    df_cm = pd.DataFrame(cm, index=['Actual Paid', 'Actual Default'],\n",
        "                         columns=['Pred Paid', 'Pred Default'])\n",
        "    print(f\"\\nConfusion Matrix for {model_name}\")\n",
        "    print(df_cm)\n",
        "\n",
        "show_conf_matrix(y_test, y_pred_lgb, \"LightGBM\")\n",
        "show_conf_matrix(y_test, y_pred_svm, \"SVM\")\n"
      ],
      "metadata": {
        "colab": {
          "base_uri": "https://localhost:8080/"
        },
        "id": "1vYSc2mRUhpv",
        "outputId": "99406ce7-8302-4f59-a458-b361411f2526"
      },
      "execution_count": 18,
      "outputs": [
        {
          "output_type": "stream",
          "name": "stdout",
          "text": [
            "\n",
            "Confusion Matrix for LightGBM\n",
            "                Pred Paid  Pred Default\n",
            "Actual Paid          9403            86\n",
            "Actual Default       1695            80\n",
            "\n",
            "Confusion Matrix for SVM\n",
            "                Pred Paid  Pred Default\n",
            "Actual Paid          9356           133\n",
            "Actual Default       1692            83\n"
          ]
        }
      ]
    },
    {
      "cell_type": "code",
      "source": [
        "print(\"LightGBM  report ⬇︎\")\n",
        "print(classification_report(y_test, y_pred_lgb, digits=3))\n",
        "\n",
        "print(\"\\nSVM report ⬇︎\")\n",
        "print(classification_report(y_test, y_pred_svm, digits=3))\n"
      ],
      "metadata": {
        "colab": {
          "base_uri": "https://localhost:8080/"
        },
        "id": "bDodc4Wjquu9",
        "outputId": "ca782e29-5c2f-47f5-a38d-10589c571b7e"
      },
      "execution_count": 19,
      "outputs": [
        {
          "output_type": "stream",
          "name": "stdout",
          "text": [
            "LightGBM  report ⬇︎\n",
            "              precision    recall  f1-score   support\n",
            "\n",
            "           0      0.847     0.991     0.913      9489\n",
            "           1      0.482     0.045     0.082      1775\n",
            "\n",
            "    accuracy                          0.842     11264\n",
            "   macro avg      0.665     0.518     0.498     11264\n",
            "weighted avg      0.790     0.842     0.783     11264\n",
            "\n",
            "\n",
            "SVM report ⬇︎\n",
            "              precision    recall  f1-score   support\n",
            "\n",
            "           0      0.847     0.986     0.911      9489\n",
            "           1      0.384     0.047     0.083      1775\n",
            "\n",
            "    accuracy                          0.838     11264\n",
            "   macro avg      0.616     0.516     0.497     11264\n",
            "weighted avg      0.774     0.838     0.781     11264\n",
            "\n"
          ]
        }
      ]
    },
    {
      "cell_type": "code",
      "source": [
        "from sklearn.metrics import confusion_matrix\n",
        "import pandas as pd, seaborn as sns, matplotlib.pyplot as plt\n",
        "\n",
        "def plot_cm(y_true, y_pred, title):\n",
        "    cm = confusion_matrix(y_true, y_pred)\n",
        "    df_cm = pd.DataFrame(cm,\n",
        "        index=['Actual Paid', 'Actual Default'],\n",
        "        columns=['Pred Paid', 'Pred Default'])\n",
        "    sns.heatmap(df_cm, annot=True, fmt='d', cmap='Blues')\n",
        "    plt.title(title); plt.xlabel(\"\"); plt.ylabel(\"\")\n",
        "    plt.show()\n",
        "\n",
        "plot_cm(y_test, y_pred_lgb, \"LightGBM – Confusion Matrix\")\n",
        "plot_cm(y_test, y_pred_svm,  \"SVM – Confusion Matrix\")\n"
      ],
      "metadata": {
        "colab": {
          "base_uri": "https://localhost:8080/",
          "height": 887
        },
        "id": "hOP_GnTaqzKi",
        "outputId": "96d1e358-31b3-40ad-f461-89bb1cd6e116"
      },
      "execution_count": 20,
      "outputs": [
        {
          "output_type": "display_data",
          "data": {
            "text/plain": [
              "<Figure size 640x480 with 2 Axes>"
            ],
            "image/png": "[encoded data removed]"
          },
          "metadata": {}
        },
        {
          "output_type": "display_data",
          "data": {
            "text/plain": [
              "<Figure size 640x480 with 2 Axes>"
            ],
            "image/png": "[encoded data removed]"
          },
          "metadata": {}
        }
      ]
    },
    {
      "cell_type": "code",
      "source": [
        "# Get probabilities instead of hard 0/1 labels\n",
        "proba = gbm.predict(X_test)          # float ∈ [0,1]\n",
        "\n",
        "# Create a tidy DataFrame to inspect\n",
        "inspect = (pd.DataFrame({\n",
        "            'prob_default': proba,\n",
        "            'actual': y_test})\n",
        "           .reset_index(drop=True)\n",
        "           .sort_values('prob_default', ascending=False))\n",
        "\n",
        "print(inspect.head(10))              # top-10 riskiest loans\n"
      ],
      "metadata": {
        "colab": {
          "base_uri": "https://localhost:8080/"
        },
        "id": "XhWCDpglq2YB",
        "outputId": "fcccc100-dd72-4936-8c6c-6b1923316248"
      },
      "execution_count": 21,
      "outputs": [
        {
          "output_type": "stream",
          "name": "stdout",
          "text": [
            "       prob_default  actual\n",
            "5337       0.562998       0\n",
            "3611       0.558968       1\n",
            "1098       0.558968       1\n",
            "4942       0.558882       0\n",
            "5676       0.553601       1\n",
            "8965       0.553601       1\n",
            "5261       0.553601       1\n",
            "10095      0.553601       1\n",
            "11232      0.553601       1\n",
            "4888       0.551110       1\n"
          ]
        }
      ]
    },
    {
      "cell_type": "code",
      "source": [
        "from sklearn.metrics import roc_auc_score, roc_curve, precision_recall_curve\n",
        "\n",
        "auc = roc_auc_score(y_test, proba)\n",
        "print(\"ROC-AUC:\", round(auc,3))\n",
        "\n",
        "fpr, tpr, _ = roc_curve(y_test, proba)\n",
        "plt.plot(fpr, tpr); plt.plot([0,1],[0,1],'--'); plt.title(\"ROC Curve\"); plt.xlabel(\"FPR\"); plt.ylabel(\"TPR\"); plt.show()\n",
        "\n",
        "prec, rec, thresh = precision_recall_curve(y_test, proba)\n",
        "plt.plot(rec, prec); plt.title(\"Precision-Recall Curve\"); plt.xlabel(\"Recall\"); plt.ylabel(\"Precision\"); plt.show()\n"
      ],
      "metadata": {
        "colab": {
          "base_uri": "https://localhost:8080/",
          "height": 944
        },
        "id": "krDK1r5yq5lY",
        "outputId": "f9bf76d3-e622-474e-e84c-c6c80d86ee26"
      },
      "execution_count": 22,
      "outputs": [
        {
          "output_type": "stream",
          "name": "stdout",
          "text": [
            "ROC-AUC: 0.693\n"
          ]
        },
        {
          "output_type": "display_data",
          "data": {
            "text/plain": [
              "<Figure size 640x480 with 1 Axes>"
            ],
            "image/png": "[encoded data removed]"
          },
          "metadata": {}
        },
        {
          "output_type": "display_data",
          "data": {
            "text/plain": [
              "<Figure size 640x480 with 1 Axes>"
            ],
            "image/png": "[encoded data removed]"
          },
          "metadata": {}
        }
      ]
    },
    {
      "cell_type": "code",
      "source": [
        "new_app = {\n",
        "    'loan_amnt': 15000, 'term': ' 36 months', 'grade': 'C', 'sub_grade': 'C3',\n",
        "    'emp_length': '3 years', 'home_ownership': 'MORTGAGE',\n",
        "    'annual_inc': 55000, 'purpose': 'credit_card', 'addr_state': 'TX',\n",
        "    'dti': 18.5, 'delinq_2yrs': 0, 'inq_last_6mths': 1,\n",
        "    'open_acc': 12, 'pub_rec': 0, 'revol_util': 68.2,\n",
        "    'total_acc': 25, 'application_type': 'Individual'\n",
        "}\n",
        "\n",
        "# turn into 1-row DataFrame, one-hot it, align columns\n",
        "x_new = (pd.DataFrame([new_app])\n",
        "         .pipe(pd.get_dummies, drop_first=True)\n",
        "         .reindex(columns=X.columns, fill_value=0))\n",
        "\n",
        "print(\"Probability of default:\", gbm.predict(x_new)[0].round(3))\n"
      ],
      "metadata": {
        "colab": {
          "base_uri": "https://localhost:8080/"
        },
        "id": "eFtWkqhIq9EZ",
        "outputId": "9ad82bec-f78c-4156-ac0d-e8b173e5cf05"
      },
      "execution_count": 23,
      "outputs": [
        {
          "output_type": "stream",
          "name": "stdout",
          "text": [
            "Probability of default: 0.173\n"
          ]
        }
      ]
    }
  ]
}